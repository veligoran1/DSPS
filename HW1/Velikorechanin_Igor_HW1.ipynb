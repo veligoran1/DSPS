{
 "cells": [
  {
   "cell_type": "markdown",
   "metadata": {},
   "source": [
    "### 1. Структура базы данных"
   ]
  },
  {
   "cell_type": "code",
   "execution_count": null,
   "metadata": {
    "vscode": {
     "languageId": "sql"
    }
   },
   "outputs": [],
   "source": [
    "Table Transactions {\n",
    "  transaction_id serial [primary key]\n",
    "  customer_id integer\n",
    "  product_id integer\n",
    "  transaction_date date\n",
    "  online_order bool\n",
    "  order_status varchar \n",
    "}\n",
    "\n",
    "Table customers {\n",
    "  customer_id serial [primary key]\n",
    "  first_name varchar\n",
    "  last_name varchar\n",
    "  date_of_birth date\n",
    "  job_title varchar\n",
    "  job_industry_category varchar\n",
    "  wealth_segment varchar\n",
    "  deceased_indicator varchar\n",
    "  owns_car varchar\n",
    "  address varchar\n",
    "  postcode integer\n",
    "  state varchar\n",
    "  country varchar\n",
    "  property_valuation smallint\n",
    "}\n",
    "\n",
    "Table products {\n",
    "  product_id serial [primary key]\n",
    "  brand varchar\n",
    "  product_line varchar\n",
    "  product_class varchar\n",
    "  product_size varchar\n",
    "  list_price numeric(20, 2)\n",
    "  standard_cost numeric(20, 2)\n",
    "}\n",
    "\n",
    "Ref: Transactions.customer_id < products.product_id\n",
    "\n",
    "Ref: Transactions.product_id < customers.customer_id"
   ]
  },
  {
   "cell_type": "markdown",
   "metadata": {},
   "source": [
    "Изображение структуры БД находится в репозитории*"
   ]
  },
  {
   "cell_type": "markdown",
   "metadata": {},
   "source": [
    "### 2. Нормализация БД"
   ]
  },
  {
   "cell_type": "markdown",
   "metadata": {},
   "source": [
    "База данных была приведена ко второй нормальной форме. \n",
    "\n",
    "Изначально у нас было две таблицы: \"transaction\" и \"customer\". В таблицы \"transaction\" существовала функциональная зависимость между \"product_id\" и некоторыми другими атрибутами. Вторая нормальная форма гласит, что в таблице не должно быть другой зависимости, кроме зависимости атрибута от первичного ключа.\n",
    "\n",
    "Поэтому было принято решение вынести в отдельные таблицы \"Products\" и \"Customers\" их id (в качестве первичного ключа) и остальные атрибуты, которые являются от этих ключей зависимыми."
   ]
  },
  {
   "cell_type": "markdown",
   "metadata": {},
   "source": [
    "### 3. Создание таблиц в DBEAVER"
   ]
  },
  {
   "cell_type": "code",
   "execution_count": 37,
   "metadata": {},
   "outputs": [],
   "source": [
    "import pandas as pd"
   ]
  },
  {
   "cell_type": "code",
   "execution_count": 39,
   "metadata": {},
   "outputs": [
    {
     "data": {
      "text/plain": [
       "customer_id                0\n",
       "first_name                 0\n",
       "last_name                125\n",
       "gender                     0\n",
       "DOB                       87\n",
       "job_title                506\n",
       "job_industry_category    656\n",
       "wealth_segment             0\n",
       "deceased_indicator         0\n",
       "owns_car                   0\n",
       "address                    0\n",
       "postcode                   0\n",
       "state                      0\n",
       "country                    0\n",
       "property_valuation         0\n",
       "dtype: int64"
      ]
     },
     "execution_count": 39,
     "metadata": {},
     "output_type": "execute_result"
    }
   ],
   "source": [
    "df_1 = pd.read_csv('asset.csv')\n",
    "df_2 = pd.read_csv('prodtrans.csv')\n",
    "\n",
    "df_1.isnull().sum()"
   ]
  },
  {
   "cell_type": "code",
   "execution_count": 40,
   "metadata": {},
   "outputs": [
    {
     "data": {
      "text/plain": [
       "transaction_id        0\n",
       "product_id            0\n",
       "customer_id           0\n",
       "transaction_date      0\n",
       "online_order        360\n",
       "order_status          0\n",
       "brand               197\n",
       "product_line        197\n",
       "product_class       197\n",
       "product_size        197\n",
       "list_price            0\n",
       "standard_cost       197\n",
       "dtype: int64"
      ]
     },
     "execution_count": 40,
     "metadata": {},
     "output_type": "execute_result"
    }
   ],
   "source": [
    "df_2.isnull().sum()"
   ]
  },
  {
   "cell_type": "code",
   "execution_count": null,
   "metadata": {
    "vscode": {
     "languageId": "sql"
    }
   },
   "outputs": [],
   "source": [
    "CREATE TABLE \"transactions\" (\n",
    "  \"transaction_id\" integer PRIMARY KEY,\n",
    "  \"customer_id\" integer references customers(customer_id),\n",
    "  \"product_id\" integer references products(product_id),\n",
    "  \"transaction_date\" date not NULL,\n",
    "  \"online_order\" bool,\n",
    "  \"order_status\" varchar(256) not NULL\n",
    ");\n",
    "\n",
    "CREATE TABLE \"customers\" (\n",
    "  \"customer_id\" integer PRIMARY KEY,\n",
    "  \"first_name\" varchar(256) not NULL,\n",
    "  \"gender\" varchar(16) not null, \n",
    "  \"last_name\" varchar(256),\n",
    "  \"date_of_birth\" date,\n",
    "  \"job_title\" varchar(256),\n",
    "  \"job_industry_category\" varchar(256),\n",
    "  \"wealth_segment\" varchar(256) not NULL,\n",
    "  \"deceased_indicator\" varchar(16) not NULL,\n",
    "  \"owns_car\" varchar(16) not NULL,\n",
    "  \"address\" varchar(256) not NULL,\n",
    "  \"postcode\" integer not NULL,\n",
    "  \"state\" varchar(32) not NULL,\n",
    "  \"country\" varchar(32) not NULL,\n",
    "  \"property_valuation\" smallint not NULL\n",
    ");\n",
    "\n",
    "CREATE TABLE \"products\" (\n",
    "  \"product_id\" integer PRIMARY KEY,\n",
    "  \"brand\" varchar(256),\n",
    "  \"product_line\" varchar(256),\n",
    "  \"product_class\" varchar(16),\n",
    "  \"product_size\" varchar(16),\n",
    "  \"list_price\" numeric(20,2) not NULL,\n",
    "  \"standard_cost\" numeric(20,2)\n",
    ");\n"
   ]
  },
  {
   "cell_type": "markdown",
   "metadata": {},
   "source": [
    "### 4. Заполнение таблицы данными"
   ]
  },
  {
   "cell_type": "markdown",
   "metadata": {},
   "source": [
    "Данные с датой исказились при импорте, переведем их к типу date"
   ]
  },
  {
   "cell_type": "code",
   "execution_count": null,
   "metadata": {
    "vscode": {
     "languageId": "sql"
    }
   },
   "outputs": [],
   "source": [
    "ALTER TABLE asset ALTER column \"DOB\" TYPE DATE \n",
    "using to_date(\"DOB\", 'YYYY-MM-DD')\n",
    "\n",
    "ALTER TABLE prodtrans ALTER column \"transaction_date\" TYPE DATE \n",
    "using to_date(\"transaction_date\", 'MM/DD/YYYY')"
   ]
  },
  {
   "cell_type": "code",
   "execution_count": null,
   "metadata": {
    "vscode": {
     "languageId": "sql"
    }
   },
   "outputs": [],
   "source": [
    "UPDATE prodtrans \n",
    "SET customer_id = 4000\n",
    "WHERE customer_id = 5034\n",
    "\n",
    "insert into \"products\" (product_id, brand , product_line , product_class , product_size , list_price, standard_cost)\n",
    "select distinct on (product_id) product_id, brand , product_line  , product_class  , product_size  , list_price , standard_cost  from \"prodtrans\" \n",
    "\n",
    "insert into \"customers\" (customer_id, \n",
    "                        first_name, \n",
    "                            gender, \n",
    "                        last_name, d\n",
    "                        ate_of_birth, \n",
    "                        job_title, \n",
    "                        job_industry_category, \n",
    "                        wealth_segment, \n",
    "                        deceased_indicator, \n",
    "                        owns_car, \n",
    "                        address, \n",
    "                        postcode, \n",
    "                        state, \n",
    "                        country, \n",
    "                        roperty_valuation)\n",
    "select customer_id, first_name, gender, last_name, \"DOB\", job_title, job_industry_category, wealth_segment, deceased_indicator, owns_car, address, postcode, state, country, property_valuation from \"asset\"\n",
    "\n",
    "\n",
    "insert into \"transactions\" (transaction_id, customer_id, product_id, transaction_date, online_order, order_status)\n",
    "select transaction_id, customer_id, product_id, transaction_date, online_order, order_status from \"prodtrans\" "
   ]
  },
  {
   "cell_type": "markdown",
   "metadata": {},
   "source": [
    "Один из customer_id вызывал ошибку, поэтому пришлось его просто заменить на другой"
   ]
  }
 ],
 "metadata": {
  "kernelspec": {
   "display_name": "Python 3",
   "language": "python",
   "name": "python3"
  },
  "language_info": {
   "codemirror_mode": {
    "name": "ipython",
    "version": 3
   },
   "file_extension": ".py",
   "mimetype": "text/x-python",
   "name": "python",
   "nbconvert_exporter": "python",
   "pygments_lexer": "ipython3",
   "version": "3.11.2"
  }
 },
 "nbformat": 4,
 "nbformat_minor": 2
}
